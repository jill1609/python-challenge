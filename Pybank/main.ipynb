{
 "cells": [
  {
   "cell_type": "code",
   "execution_count": 20,
   "id": "1b8d8850-16a7-4342-9955-f37849a08718",
   "metadata": {},
   "outputs": [],
   "source": [
    "filepath = \"C:/Users/DELL/Desktop/assignment/python-challenge/Pybank/budget_data.csv\""
   ]
  },
  {
   "cell_type": "code",
   "execution_count": 21,
   "id": "5a9a4a02-ea12-4a63-ab60-821df90fab6a",
   "metadata": {},
   "outputs": [],
   "source": [
    "import csv"
   ]
  },
  {
   "cell_type": "code",
   "execution_count": 22,
   "id": "959b34d6-ed8e-4b5a-a988-f9c1a2b74f9c",
   "metadata": {},
   "outputs": [],
   "source": [
    "total_month_count = 0\n",
    "total_profit = 0\n",
    "\n",
    "monthly_pnl = 0\n",
    "\n",
    "average_change = 0\n",
    "\n",
    "total_average_change = 0\n",
    "\n",
    "highest_profit = 0\n",
    "highest_loss = 0\n",
    "best_month = \" \"\n",
    "worst_month = \" \"\n",
    "\n",
    "financial_record = []\n",
    "\n",
    "#values assigned for executing functions"
   ]
  },
  {
   "cell_type": "code",
   "execution_count": 23,
   "id": "50067198-67fb-47f2-a006-5133219b96c8",
   "metadata": {},
   "outputs": [],
   "source": [
    "def financial_analysis(budget_data):\n",
    "    \n",
    "    global total_month_count\n",
    "    global total_profit\n",
    "    \n",
    "    total_month_count = total_month_count + 1\n",
    "    \n",
    "    total_profit = total_profit + int(row[1])\n",
    "\n",
    "#financial_analysis function defined to calculate total number of months & total profit"
   ]
  },
  {
   "cell_type": "code",
   "execution_count": 24,
   "id": "d5d78ff2-80c8-4e6d-9ab5-74174d7d47bf",
   "metadata": {},
   "outputs": [],
   "source": [
    "def financial_change(bugdet_data):\n",
    "    \n",
    "    global monthly_pnl\n",
    "    global average_change\n",
    "    global total_average_change\n",
    "    \n",
    "    monthly_pnl = int(row[1])\n",
    "    \n",
    "    if total_month_count == 1:\n",
    "        average_change = 0\n",
    "    else:\n",
    "        average_change = monthly_pnl - average_change\n",
    "        \n",
    "    total_average_change = total_average_change + average_change\n",
    "    \n",
    "#financial_change function defined to calculate total average change in profits/losses"
   ]
  },
  {
   "cell_type": "code",
   "execution_count": 25,
   "id": "3b2ade33-afb8-48d5-88d5-1cb1b59bba5f",
   "metadata": {},
   "outputs": [],
   "source": [
    "with open(filepath, 'r') as csvfile:\n",
    "    csvreader = csv.reader(csvfile, delimiter=',')\n",
    "    csv_header = next(csvreader)\n",
    "    csv_header.append(\"Change\")\n",
    "    financial_record.append(csv_header)\n",
    "    \n",
    "    \n",
    "    for row in csvreader:\n",
    "        financial_analysis(row)\n",
    "        financial_change(row)\n",
    "        row.append(average_change)\n",
    "        financial_record.append(row)\n",
    "        average_change = monthly_pnl\n",
    "        \n",
    "        if highest_loss == 0:\n",
    "            highest_loss = int(row[2])\n",
    "            worst_month = str(row[0])\n",
    "        elif int(row[2]) < highest_loss:\n",
    "            highest_loss = int(row[2])\n",
    "            worst_month = str(row[0])\n",
    "        if int(row[2]) > highest_profit:\n",
    "            highest_profit = int(row[2])\n",
    "            best_month = str(row[0])\n",
    "\n",
    "average = round((total_average_change/(total_month_count-1)),2)\n",
    "\n",
    "#csvfile read for data input and applying the functions for calculating results"
   ]
  },
  {
   "cell_type": "code",
   "execution_count": 26,
   "id": "1a3e3284-d4f6-42fd-b9fb-fedd66d3bdc6",
   "metadata": {},
   "outputs": [
    {
     "name": "stdout",
     "output_type": "stream",
     "text": [
      "Financial Analysis\n",
      "-------------------------------\n",
      "Total months: 86\n",
      "Total: $38382578\n",
      "Average change: $-2315.12\n",
      "Greatest Increase in Profits: Feb-2012 ($1926159)\n",
      "Greatest Decrease in Profits: Sep-2013 ($-2196167)\n"
     ]
    }
   ],
   "source": [
    "print(f\"Financial Analysis\")\n",
    "print(f\"-------------------------------\")\n",
    "print(f\"Total months: {total_month_count}\")\n",
    "print(f\"Total: ${total_profit}\")\n",
    "print(f\"Average change: ${average}\")\n",
    "print(f\"Greatest Increase in Profits: {best_month} (${highest_profit})\")\n",
    "print(f\"Greatest Decrease in Profits: {worst_month} (${highest_loss})\")\n",
    "\n",
    "#results printed through print command"
   ]
  },
  {
   "cell_type": "code",
   "execution_count": 27,
   "id": "01bb640e-c677-4a38-a3ae-89fce87e9990",
   "metadata": {},
   "outputs": [],
   "source": [
    "output_path = \"C:/Users/DELL/Desktop/assignment/python-challenge/Pybank/week2-assignment.txt\"\n",
    "\n",
    "#output_path created for exporting data to a text file"
   ]
  },
  {
   "cell_type": "code",
   "execution_count": 28,
   "id": "5fe8f1ef-0ad8-49ed-ad3b-9a54a33f5753",
   "metadata": {},
   "outputs": [],
   "source": [
    "with open(output_path, \"w\") as file:\n",
    "    \n",
    "    file.write(f\"Financial Analysis\\n\")\n",
    "    file.write(f\"-------------------------------\\n\")\n",
    "    file.write(f\"Total months: {total_month_count}\\n\")\n",
    "    file.write(f\"Total: ${total_profit}\\n\")\n",
    "    file.write(f\"Average change: ${average}\\n\")\n",
    "    file.write(f\"Greatest Increase in Profits: {best_month} (${highest_profit})\\n\")\n",
    "    file.write(f\"Greatest Decrease in Profits: {worst_month} (${highest_loss})\\n\")\n",
    "\n",
    "#data written in the text file for viewing results"
   ]
  },
  {
   "cell_type": "code",
   "execution_count": null,
   "id": "e6649b06-0218-4801-b09c-7164023591ab",
   "metadata": {},
   "outputs": [],
   "source": []
  }
 ],
 "metadata": {
  "kernelspec": {
   "display_name": "Python 3 (ipykernel)",
   "language": "python",
   "name": "python3"
  },
  "language_info": {
   "codemirror_mode": {
    "name": "ipython",
    "version": 3
   },
   "file_extension": ".py",
   "mimetype": "text/x-python",
   "name": "python",
   "nbconvert_exporter": "python",
   "pygments_lexer": "ipython3",
   "version": "3.7.13"
  }
 },
 "nbformat": 4,
 "nbformat_minor": 5
}
